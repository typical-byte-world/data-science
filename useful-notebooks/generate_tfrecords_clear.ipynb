{
 "cells": [
  {
   "cell_type": "code",
   "execution_count": 6,
   "metadata": {},
   "outputs": [],
   "source": [
    "import tensorflow as tf\n",
    "import os\n",
    "import io\n",
    "from PIL import Image\n",
    "import xml.etree.ElementTree as ET\n",
    "import random\n",
    "\n",
    "from object_detection.utils import dataset_util"
   ]
  },
  {
   "cell_type": "code",
   "execution_count": 7,
   "metadata": {},
   "outputs": [],
   "source": [
    "folder = 'train222/a'\n",
    "images_all = os.listdir(folder)"
   ]
  },
  {
   "cell_type": "code",
   "execution_count": 8,
   "metadata": {},
   "outputs": [],
   "source": [
    "images_all = [img for img in images_all if 'xml' not in img]"
   ]
  },
  {
   "cell_type": "code",
   "execution_count": 10,
   "metadata": {},
   "outputs": [],
   "source": [
    "images_all = [img for img in images_all if 'xml' in img or 'png' in img or 'jpg' in img]"
   ]
  },
  {
   "cell_type": "code",
   "execution_count": 11,
   "metadata": {},
   "outputs": [
    {
     "data": {
      "text/plain": [
       "750"
      ]
     },
     "execution_count": 11,
     "metadata": {},
     "output_type": "execute_result"
    }
   ],
   "source": [
    "len(images_all)"
   ]
  },
  {
   "cell_type": "code",
   "execution_count": 12,
   "metadata": {},
   "outputs": [],
   "source": [
    "random.shuffle(images_all)"
   ]
  },
  {
   "cell_type": "code",
   "execution_count": 19,
   "metadata": {},
   "outputs": [
    {
     "data": {
      "text/plain": [
       "637"
      ]
     },
     "execution_count": 19,
     "metadata": {},
     "output_type": "execute_result"
    }
   ],
   "source": [
    "num = int(len(images_all) * 0.85)\n",
    "num"
   ]
  },
  {
   "cell_type": "code",
   "execution_count": 15,
   "metadata": {},
   "outputs": [],
   "source": [
    "train_images = images_all[:num]\n",
    "test_images = images_all[num:]"
   ]
  },
  {
   "cell_type": "code",
   "execution_count": 16,
   "metadata": {},
   "outputs": [
    {
     "data": {
      "text/plain": [
       "(637, 113)"
      ]
     },
     "execution_count": 16,
     "metadata": {},
     "output_type": "execute_result"
    }
   ],
   "source": [
    "len(train_images), len(test_images)"
   ]
  },
  {
   "cell_type": "code",
   "execution_count": 17,
   "metadata": {},
   "outputs": [],
   "source": [
    "def get_coords(data_file):\n",
    "    tree = ET.parse(data_file)\n",
    "    root = tree.getroot()\n",
    "    \n",
    "    size = root.find('size')\n",
    "    width = size.find('width').text\n",
    "    height = size.find('height').text\n",
    "    \n",
    "    for child in root.findall('object'):\n",
    "        name = child.find('name')\n",
    "        if 'scoreboard' == name.text:\n",
    "            coord = child.find('bndbox')\n",
    "            xmin = coord.find('xmin').text\n",
    "            xmax = coord.find('xmax').text\n",
    "            ymin = coord.find('ymin').text\n",
    "            ymax = coord.find('ymax').text\n",
    "            \n",
    "            return [xmin, xmax, ymin, ymax, width, height]"
   ]
  },
  {
   "cell_type": "code",
   "execution_count": 18,
   "metadata": {
    "scrolled": true
   },
   "outputs": [
    {
     "name": "stdout",
     "output_type": "stream",
     "text": []
    }
   ],
   "source": [
    "def create_tf_example(example):\n",
    "  # TODO(user): Populate the following variables from your example.\n",
    "    height = example['height'] # Image height\n",
    "    width = example['width'] # Image width\n",
    "    filename = example['filename'] # Filename of the image. Empty if image is not from file\n",
    "    encoded_image_data = example['data'] # Encoded image bytes\n",
    "    image_format = example['format'] # b'jpeg' or b'png'\n",
    "\n",
    "    xmins = [example['xmin']] # List of normalized left x coordinates in bounding box (1 per box)\n",
    "    xmaxs = [example['xmax']] # List of normalized right x coordinates in bounding box\n",
    "             # (1 per box)\n",
    "    ymins = [example['ymin']] # List of normalized top y coordinates in bounding box (1 per box)\n",
    "    ymaxs = [example['ymax']] # List of normalized bottom y coordinates in bounding box\n",
    "             # (1 per box)\n",
    "    classes_text = [bytes('Lichilnik', 'utf-8')] # List of string class name of bounding box (1 per box)\n",
    "    classes = [1] # List of integer class id of bounding box (1 per box)\n",
    "\n",
    "    tf_example = tf.train.Example(features=tf.train.Features(feature={\n",
    "      'image/height': dataset_util.int64_feature(height),\n",
    "      'image/width': dataset_util.int64_feature(width),\n",
    "      'image/filename': dataset_util.bytes_feature(filename),\n",
    "      'image/source_id': dataset_util.bytes_feature(filename),\n",
    "      'image/encoded': dataset_util.bytes_feature(encoded_image_data),\n",
    "      'image/format': dataset_util.bytes_feature(image_format),\n",
    "      'image/object/bbox/xmin': dataset_util.float_list_feature(xmins),\n",
    "      'image/object/bbox/xmax': dataset_util.float_list_feature(xmaxs),\n",
    "      'image/object/bbox/ymin': dataset_util.float_list_feature(ymins),\n",
    "      'image/object/bbox/ymax': dataset_util.float_list_feature(ymaxs),\n",
    "      'image/object/class/text': dataset_util.bytes_list_feature(classes_text),\n",
    "      'image/object/class/label': dataset_util.int64_list_feature(classes),\n",
    "    }))\n",
    "    return tf_example\n",
    "\n",
    "\n",
    "def main(_):\n",
    "    counter = 0\n",
    "    for dataset in [test_images, train_images]:\n",
    "        if len(dataset) > 300:\n",
    "            name_writer = 'final_train_all.tfrecord'\n",
    "        else:\n",
    "            name_writer = 'final_test_all.tfrecord'\n",
    "        writer = tf.python_io.TFRecordWriter(name_writer)\n",
    "\n",
    "\n",
    "        for img in dataset:\n",
    "\n",
    "            name = img.split('.')[0]\n",
    "            print(name)\n",
    "#             if os.path.isfile(folder + '/' + name + '.png'):\n",
    "            if os.path.isfile(f'{folder}/{name}.png'):\n",
    "                im = folder + '/' + name + '.png'\n",
    "                format_img = b'png'\n",
    "            elif os.path.isfile(f'{folder}/{name}.jpg'):\n",
    "                im = folder + '/' + name + '.jpg'\n",
    "                format_img = b'jpg'\n",
    "            else:\n",
    "                print(f'There is not such file: {name}')\n",
    "\n",
    "                continue\n",
    "                \n",
    "            im2 = im.split('/')[1]\n",
    "\n",
    "            data_file = folder + '/' + name + '.xml'\n",
    "            if not os.path.isfile(data_file):\n",
    "                print(f'No such file {data_file}')\n",
    "                continue\n",
    "            try:\n",
    "                x_min, x_max, y_min, y_max, width, height = get_coords(data_file)\n",
    "                width, height = int(width), int(height)\n",
    "            except:\n",
    "                continue\n",
    "\n",
    "\n",
    "            with tf.gfile.GFile(im, 'rb') as fid:\n",
    "                encoded_jpg = fid.read()\n",
    "\n",
    "            if not width or not height:\n",
    "                img_data_encoded = io.BytesIO(encoded_jpg)\n",
    "                width, height = Image.open(img_data_encoded).size\n",
    "                \n",
    "            print(f\"Name: {name}, x_min: {x_min}, x_max: {x_max}, y_min: {y_min}, y_max: {y_max}, width: {width}, height: {height}\\n\")\n",
    "\n",
    "            exmpl = {}\n",
    "            exmpl['height'] = height\n",
    "            exmpl['width'] = width\n",
    "            exmpl['filename'] = bytes(im, 'utf-8')\n",
    "            exmpl['data'] = encoded_jpg\n",
    "            exmpl['format'] = format_img\n",
    "            \n",
    "\n",
    "                \n",
    "            exmpl['xmin'] = (float(x_min) - 10) / (width)\n",
    "            exmpl['xmax'] = (float(x_max) + 10) / width\n",
    "            exmpl['ymin'] = (float(y_min) - 10) / height\n",
    "            exmpl['ymax'] = (float(y_max) + 10) / height\n",
    "\n",
    "            print(exmpl['xmin'])\n",
    "\n",
    "            counter += 1\n",
    "            tf_example = create_tf_example(exmpl)\n",
    "            writer.write(tf_example.SerializeToString())\n",
    "\n",
    "        writer.close()\n",
    "        print(f'Writed files {counter}', '\\n\\n')\n",
    "\n",
    "\n",
    "if __name__ == '__main__':\n",
    "#     tf.app.run()\n",
    "    main(_)"
   ]
  },
  {
   "cell_type": "code",
   "execution_count": null,
   "metadata": {},
   "outputs": [],
   "source": []
  }
 ],
 "metadata": {
  "kernelspec": {
   "display_name": "Python 3",
   "language": "python",
   "name": "python3"
  },
  "language_info": {
   "codemirror_mode": {
    "name": "ipython",
    "version": 3
   },
   "file_extension": ".py",
   "mimetype": "text/x-python",
   "name": "python",
   "nbconvert_exporter": "python",
   "pygments_lexer": "ipython3",
   "version": "3.7.3"
  },
  "latex_envs": {
   "LaTeX_envs_menu_present": true,
   "autoclose": false,
   "autocomplete": true,
   "bibliofile": "biblio.bib",
   "cite_by": "apalike",
   "current_citInitial": 1,
   "eqLabelWithNumbers": true,
   "eqNumInitial": 1,
   "hotkeys": {
    "equation": "Ctrl-E",
    "itemize": "Ctrl-I"
   },
   "labels_anchors": false,
   "latex_user_defs": false,
   "report_style_numbering": false,
   "user_envs_cfg": false
  },
  "toc": {
   "base_numbering": 1,
   "nav_menu": {},
   "number_sections": true,
   "sideBar": true,
   "skip_h1_title": false,
   "title_cell": "Table of Contents",
   "title_sidebar": "Contents",
   "toc_cell": false,
   "toc_position": {},
   "toc_section_display": true,
   "toc_window_display": false
  }
 },
 "nbformat": 4,
 "nbformat_minor": 2
}
