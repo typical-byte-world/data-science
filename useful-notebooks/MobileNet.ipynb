{
 "cells": [
  {
   "cell_type": "markdown",
   "metadata": {},
   "source": [
    "# Training and Deploying A Deep Learning Model in Keras MobileNet V2 and Heroku: A Step-by-Step Tutorial \n",
    "\n",
    "**This is part of my blog [here](https://medium.com/@malnakli/tf-serving-keras-mobilenetv2-632b8d92983c)**"
   ]
  },
  {
   "cell_type": "markdown",
   "metadata": {},
   "source": [
    "## Prepare data for training\n",
    "\n",
    "\n",
    "|Label|Description|  \n",
    "|-  |      -      |\n",
    "| 0 | T-shirt/top | \n",
    "| 1 | Trouser     | \n",
    "| 2 | Pullover    |  \n",
    "| 3 | Dress       | \n",
    "| 4 | Coat        | \n",
    "| 5 | Sandal      | \n",
    "| 6 | Shirt       |\n",
    "| 7 | Sneaker     | \n",
    "| 8 | Bag         | \n",
    "| 9 | Ankle boot  | \n"
   ]
  },
  {
   "cell_type": "code",
   "execution_count": null,
   "metadata": {
    "collapsed": true
   },
   "outputs": [],
   "source": [
    "from keras.datasets.fashion_mnist import load_data\n",
    "\n",
    "# Load the fashion-mnist train data and test data\n",
    "(x_train, y_train), (x_test, y_test) = load_data()\n",
    "\n",
    "print(\"x_train shape:\", x_train.shape, \"y_train shape:\", y_train.shape)"
   ]
  },
  {
   "cell_type": "markdown",
   "metadata": {},
   "source": [
    "## Helper function to display imags"
   ]
  },
  {
   "cell_type": "code",
   "execution_count": null,
   "metadata": {
    "collapsed": true
   },
   "outputs": [],
   "source": [
    "import matplotlib.pyplot as plt\n",
    "import numpy as np\n",
    "%matplotlib inline\n",
    "\n",
    "def show_images(images):\n",
    "    \"\"\"\n",
    "    images : numpy arrays\n",
    "    \"\"\"\n",
    "    n_images = len(images)\n",
    "    titles = ['(%d)' % i for i in range(1, n_images + 1)]\n",
    "    num = 5\n",
    "    iter_num = np.ceil(n_images / num).astype(int)\n",
    "    for i in range(iter_num):\n",
    "        fig = plt.figure()\n",
    "        sub_images = images[i * num:num * (i + 1)]\n",
    "        sub_titles = titles[i * num:num * (i + 1)]\n",
    "        for n, (image, title) in enumerate(zip(sub_images, sub_titles)):\n",
    "            a = fig.add_subplot(1, np.ceil(len(sub_images)), n + 1)\n",
    "            if image.ndim == 2:\n",
    "                plt.gray()\n",
    "            a.set_title(title, fontsize=15)\n",
    "            plt.imshow(image)\n"
   ]
  },
  {
   "cell_type": "markdown",
   "metadata": {},
   "source": [
    "### Show samples of data"
   ]
  },
  {
   "cell_type": "code",
   "execution_count": null,
   "metadata": {
    "collapsed": true
   },
   "outputs": [],
   "source": [
    "show_images(x_train[:10])"
   ]
  },
  {
   "cell_type": "markdown",
   "metadata": {},
   "source": [
    "### Data normalization\n",
    "Normalize the data dimensions so that they are of approximately the same scale.In general, normalization makes very deep NN easier to train, special in Convolutional and Recurrent neural network.\n",
    "\n",
    "Here is a nice explanation [video](https://www.coursera.org/lecture/deep-neural-network/normalizing-activations-in-a-network-4ptp2) and an [article](https://medium.com/@darrenyaoyao.huang/why-we-need-normalization-in-deep-learning-from-batch-normalization-to-group-normalization-d06ea0e59c17)"
   ]
  },
  {
   "cell_type": "code",
   "execution_count": null,
   "metadata": {
    "collapsed": true
   },
   "outputs": [],
   "source": [
    "norm_x_train = x_train.astype('float32') / 255\n",
    "norm_x_test = x_test.astype('float32') / 255\n",
    "# dsiplay images\n",
    "show_images(norm_x_train[:10])"
   ]
  },
  {
   "cell_type": "markdown",
   "metadata": {},
   "source": [
    "### Convert labels (y_train and y_test) to one hot encoding\n",
    "A one hot encoding is a representation of categorical variables as binary vectors.  \n",
    "[Here is the full explanation](https://machinelearningmastery.com/how-to-one-hot-encode-sequence-data-in-python/) If you would like to have a deep understanding."
   ]
  },
  {
   "cell_type": "code",
   "execution_count": null,
   "metadata": {
    "collapsed": true
   },
   "outputs": [],
   "source": [
    "from keras.utils import to_categorical\n",
    "encoded_y_train = to_categorical(y_train, num_classes=10, dtype='float32')\n",
    "encoded_y_test = to_categorical(y_test, num_classes=10, dtype='float32')"
   ]
  },
  {
   "cell_type": "markdown",
   "metadata": {},
   "source": [
    "### Resize images & convert to 3 channel (RGB)\n",
    "\n",
    "[MobileNet V2](https://keras.io/applications/#mobilenetv2) model accepts one of the following formats: (96, 96), (128, 128), (160, 160),(192, 192), or (224, 224). In addition, the image has to be 3 channel (RGB) format. Therefore, We need to resize & convert our images. from (28 X 28) to (96 X 96 X 3)."
   ]
  },
  {
   "cell_type": "code",
   "execution_count": null,
   "metadata": {
    "collapsed": true
   },
   "outputs": [],
   "source": [
    "from skimage.transform import resize\n",
    "\n",
    "target_size = 96\n",
    "\n",
    "def preprocess_image(x):\n",
    "    # Resize the image to have the shape of (96,96)\n",
    "    x = resize(x, (target_size, target_size),\n",
    "            mode='constant',\n",
    "            anti_aliasing=False)\n",
    "    \n",
    "    # convert to 3 channel (RGB)\n",
    "    x = np.stack((x,)*3, axis=-1) \n",
    "    \n",
    "    # Make sure it is a float32, here is why \n",
    "    # https://www.quora.com/When-should-I-use-tf-float32-vs-tf-float64-in-TensorFlow\n",
    "    return x.astype(np.float32)"
   ]
  },
  {
   "cell_type": "markdown",
   "metadata": {},
   "source": [
    "Running the previous code in all our data data, it may eat up a lot of memory resources; therefore, we are going to use generator.   \n",
    "[Python Generator](https://www.programiz.com/python-programming/generator) is a function that returns an object (iterator) which we can iterate over (one value at a time)."
   ]
  },
  {
   "cell_type": "code",
   "execution_count": null,
   "metadata": {
    "collapsed": true
   },
   "outputs": [],
   "source": [
    "from sklearn.utils import shuffle\n",
    "def load_data_generator(x, y, batch_size=64):\n",
    "    num_samples = x.shape[0]\n",
    "    while 1:  # Loop forever so the generator never terminates\n",
    "        try:\n",
    "            shuffle(x)\n",
    "            for i in range(0, num_samples, batch_size):\n",
    "                x_data = [preprocess_image(im) for im in x[i:i+batch_size]]\n",
    "                y_data = y[i:i + batch_size]\n",
    "            \n",
    "                # convert to numpy array since this what keras required\n",
    "                yield shuffle(np.array(x_data), np.array(y_data))\n",
    "        except Exception as err:\n",
    "            print(err)"
   ]
  },
  {
   "cell_type": "markdown",
   "metadata": {},
   "source": [
    "## Train a Deep Learning model"
   ]
  },
  {
   "cell_type": "code",
   "execution_count": null,
   "metadata": {
    "collapsed": true
   },
   "outputs": [],
   "source": [
    "from keras.applications.mobilenetv2 import MobileNetV2\n",
    "from keras.layers import Dense, Input, Dropout\n",
    "from keras.models import Model\n",
    "\n",
    "def build_model( ):\n",
    "    input_tensor = Input(shape=(target_size, target_size, 3))\n",
    "    base_model = MobileNetV2(\n",
    "        include_top=False,\n",
    "        weights='imagenet',\n",
    "        input_tensor=input_tensor,\n",
    "        input_shape=(target_size, target_size, 3),\n",
    "        pooling='avg')\n",
    "\n",
    "    for layer in base_model.layers:\n",
    "        layer.trainable = True  # trainable has to be false in order to freeze the layers\n",
    "        \n",
    "    op = Dense(256, activation='relu')(base_model.output)\n",
    "    op = Dropout(.25)(op)\n",
    "    \n",
    "    ##\n",
    "    # softmax: calculates a probability for every possible class.\n",
    "    #\n",
    "    # activation='softmax': return the highest probability;\n",
    "    # for example, if 'Coat' is the highest probability then the result would be \n",
    "    # something like [0,0,0,0,1,0,0,0,0,0] with 1 in index 5 indicate 'Coat' in our case.\n",
    "    ##\n",
    "    output_tensor = Dense(10, activation='softmax')(op)\n",
    "\n",
    "    model = Model(inputs=input_tensor, outputs=output_tensor)\n",
    "\n",
    "\n",
    "    return model"
   ]
  },
  {
   "cell_type": "code",
   "execution_count": null,
   "metadata": {
    "collapsed": true
   },
   "outputs": [],
   "source": [
    "from keras.optimizers import Adam\n",
    "model = build_model()\n",
    "model.compile(optimizer=Adam(),\n",
    "              loss='categorical_crossentropy',\n",
    "              metrics=['categorical_accuracy'])"
   ]
  },
  {
   "cell_type": "code",
   "execution_count": null,
   "metadata": {
    "collapsed": true
   },
   "outputs": [],
   "source": [
    "train_generator = load_data_generator(norm_x_train, encoded_y_train, batch_size=64)\n",
    "\n",
    "model.fit_generator(\n",
    "    generator=train_generator,\n",
    "    steps_per_epoch=5,\n",
    "    verbose=1,\n",
    "    epochs=2)"
   ]
  },
  {
   "cell_type": "markdown",
   "metadata": {},
   "source": [
    "### Test\n"
   ]
  },
  {
   "cell_type": "code",
   "execution_count": null,
   "metadata": {
    "collapsed": true
   },
   "outputs": [],
   "source": [
    "test_generator = load_data_generator(norm_x_test, encoded_y_test, batch_size=64)\n",
    "model.evaluate_generator(generator=test_generator,\n",
    "                         steps=900,\n",
    "                         verbose=1)"
   ]
  },
  {
   "cell_type": "markdown",
   "metadata": {},
   "source": [
    "## Save the model\n",
    "Make sure you save the model, because we are going to use in next part"
   ]
  },
  {
   "cell_type": "code",
   "execution_count": null,
   "metadata": {
    "collapsed": true
   },
   "outputs": [],
   "source": [
    "model_name = \"tf_serving_keras_mobilenetv2\"\n",
    "model.save(f\"models/{model_name}.h5\")"
   ]
  },
  {
   "cell_type": "markdown",
   "metadata": {
    "collapsed": true
   },
   "source": [
    "## Part 2 (if you follow the blog)"
   ]
  },
  {
   "cell_type": "markdown",
   "metadata": {},
   "source": [
    "## Makes Model ready to tensorflow serving\n",
    "\n",
    "### Tensorflow serving \n",
    "[TensorFlow Serving](https://www.tensorflow.org/serving/overview) is a flexible, high-performance serving system for machine learning models, designed for **production** environments.\n"
   ]
  },
  {
   "cell_type": "code",
   "execution_count": null,
   "metadata": {
    "collapsed": true
   },
   "outputs": [],
   "source": [
    "from keras.models import load_model\n",
    "model = load_model(f\"models/{model_name}.h5\")"
   ]
  },
  {
   "cell_type": "markdown",
   "metadata": {},
   "source": [
    "### Build & Save model to be tensorflow serving ready\n"
   ]
  },
  {
   "cell_type": "code",
   "execution_count": null,
   "metadata": {
    "collapsed": true
   },
   "outputs": [],
   "source": [
    "import os\n",
    "import tensorflow as tf\n",
    "import keras\n",
    "# Import the libraries needed for saving models\n",
    "# Note that in some other tutorials these are framed as coming from tensorflow_serving_api which is no longer correct\n",
    "from tensorflow.python.saved_model import builder as saved_model_builder\n",
    "from tensorflow.python.saved_model import tag_constants, signature_constants, signature_def_utils_impl\n",
    "\n",
    "# images will be the input key name\n",
    "# scores will be the out key name\n",
    "prediction_signature = tf.saved_model.signature_def_utils.predict_signature_def(\n",
    "    {\n",
    "    \"images\": model.input\n",
    "    }, {\n",
    "    \"scores\": model.output\n",
    "    })\n",
    "\n",
    "# export_path is a directory in which the model will be created\n",
    "export_path = os.path.join(\n",
    "    tf.compat.as_bytes('models/export/{}'.format(model_name)),\n",
    "    tf.compat.as_bytes('1'))\n",
    "\n",
    "builder = saved_model_builder.SavedModelBuilder(export_path)\n",
    "\n",
    "sess = keras.backend.get_session()\n",
    "\n",
    "# Add the meta_graph and the variables to the builder\n",
    "builder.add_meta_graph_and_variables(\n",
    "    sess, [tag_constants.SERVING],\n",
    "    signature_def_map={\n",
    "        'prediction': prediction_signature,\n",
    "    })\n",
    "# save the graph\n",
    "builder.save()"
   ]
  },
  {
   "cell_type": "markdown",
   "metadata": {},
   "source": [
    "## Setting up Heroku & Docker\n",
    "\n",
    "- [Install docker for macOS and windows](https://www.docker.com/products/docker-desktop)\n",
    "- A little more work for Ubuntu users but still straightforward [Install docker for Ubuntu](https://docs.docker.com/install/linux/docker-ce/ubuntu/#upgrade-docker-ce)\n",
    "- [Signup to Heroku](https://signup.heroku.com/)\n",
    "- [Install heroku-cli](https://devcenter.heroku.com/articles/heroku-cli#download-and-install)\n",
    "\n",
    "### After you have installed docker and heroku-cli.\n",
    "\n",
    "Run the following to make sure docker & heroku have been installed correctly\n",
    "```\n",
    "> docker ps \n",
    "CONTAINER ID IMAGE COMMAND CREATED STATUS PORTS NAMES\n",
    "\n",
    "> heroku --version\n",
    "heroku/7.18.3 darwin-x64 node-v10.12.0\n",
    "\n",
    "# make sure you have logged in to your heroku account\n",
    "heroku login\n",
    "# Output should have:   \n",
    "Logged in as xxxxx@xxx.xx\n",
    "```\n"
   ]
  },
  {
   "cell_type": "markdown",
   "metadata": {},
   "source": [
    "## Deploy the model to Heroku\n",
    "\n",
    "#### Download tensorflow serving image from `hub.docker.com`\n",
    "Because tensorflow serving docker image was not optimized for heroku.   \n",
    "I have created a dockerfile that following heroku instructure. cleck [here](https://github.com/malnakli/ML/tf_serving_keras_mobilenetv2/Dockerfile) to look at.\n",
    "\n",
    "\n",
    "Also I have pushed the a docker image that ready to deploy to heroku,\n",
    "which already have the trained model.\n",
    "\n",
    "`docker pull malnakli/ml:tf-serving-heroku-1.11`\n",
    "\n",
    "**To build you own**\n",
    "Run the following:\n",
    "make sure you ar in the right folder\n",
    "\n",
    "`cd ML/tf_serving_keras_mobilenetv2`\n",
    "\n",
    "Build docker image:\n",
    "`docker build -t tf-serving-heroku-1.11 .`\n",
    "\n",
    "Once the image build. you can run it locally if you would like, \n",
    "otherwise go to deploy section.     \n",
    "`docker run -p 8501:8501 -e PORT=8501 -t tf-serving-heroku-1.11`\n",
    "\n",
    "If you see the following the last output, then it works.    \n",
    "```\n",
    "... tensorflow_serving/model_servers/server.cc:301] Exporting HTTP/REST API at:localhost:8501 ...\n",
    "```\n",
    "### Deploy\n",
    "\n",
    "##### Log in to Container Registry:\n",
    "`heroku container:login`\n",
    "\n",
    "##### Create a heroku app\n",
    "`heroku create ${YOUR_APP_NAME}`\n",
    "\n",
    "#### Push the docker image to heroku\n",
    "`heroku  container:push web -a ${YOUR_APP_NAME}`   \n",
    "`heroku container:release web -a ${YOUR_APP_NAME}`"
   ]
  },
  {
   "cell_type": "markdown",
   "metadata": {},
   "source": [
    "## Call the model\n",
    "\n",
    "#### The loacl url\n",
    "> `http://localhost:8501//v1/models/tf_serving_keras_mobilenetv2/versions/1:predict`\n",
    "\n",
    "#### The Heroku url\n",
    "> http://https://tf-serving-keras-mobilenetv2.herokuapp.com//v1/models/tf_serving_keras_mobilenetv2/versions/1:predict\n",
    "\n",
    "JSON data that is sent to TensorFlow Model Server:\n",
    "```\n",
    "{\n",
    "  \"signature_name\":'prediction',\n",
    "  \"instances\": [{\"images\":image.tolist()}]\n",
    "}\n",
    "```\n",
    "\n",
    "And you can see the full documentation about RESTful API in [Here](https://www.tensorflow.org/serving/api_rest). "
   ]
  },
  {
   "cell_type": "code",
   "execution_count": null,
   "metadata": {},
   "outputs": [],
   "source": [
    "from urllib import request\n",
    "from PIL import Image\n",
    "\n",
    "image_url = \"https://cdn.shopify.com/s/files/1/2029/4253/products/Damb_Back_2a3cc4cc-06c2-488e-8918-2e7a1cde3dfc_530x@2x.jpg\"\n",
    "image_path = f\"tmp/{image_url.split('/')[-1]}\"\n",
    "# download image\n",
    "with request.urlopen(url=image_url, timeout=10) as response:\n",
    "    data = response.read()\n",
    "    with open(image_path, 'wb') as f:\n",
    "        f.write(data)\n",
    "\n",
    "# convert image to grayscale.\n",
    "image = Image.open(image_path).convert('L')\n",
    "# resize the image to 28 28 to make sure it is similar to our dataset\n",
    "image.thumbnail((28,28))\n",
    "image = preprocess_image(np.array(image))\n",
    "print(image.shape)\n",
    "show_images([image])\n"
   ]
  },
  {
   "cell_type": "code",
   "execution_count": null,
   "metadata": {
    "collapsed": true
   },
   "outputs": [],
   "source": [
    "import requests\n",
    "import json\n",
    "\"\"\"\n",
    "NOTE:\n",
    "change https://tf-serving-keras-mobilenetv2.herokuapp.com to your url or \n",
    "if you ran the docker locally, then replace with http://localhost:8501\n",
    "\"\"\" \n",
    "url = \"https://tf-serving-keras-mobilenetv2.herokuapp.com\"\n",
    "full_url = f\"{url}/v1/models/tf_serving_keras_mobilenetv2/versions/1:predict\"\n",
    "data = {\"signature_name\":\"prediction\",\n",
    "        \"instances\":[{\"images\":image.tolist()}]}\n",
    "data = json.dumps(data)"
   ]
  },
  {
   "cell_type": "code",
   "execution_count": null,
   "metadata": {},
   "outputs": [],
   "source": [
    "import sys\n",
    "labels = ['T-shirt/top' ,'Trouser','Pullover','Dress','Coat','Sandal','Shirt','Sneaker','Bag', 'Ankle boot']\n",
    "try:\n",
    "    response = requests.post(full_url,data=data)\n",
    "    response = response.json()\n",
    "    highest_index = np.argmax(response['predictions'])\n",
    "    print(labels[highest_index])\n",
    "except:\n",
    "    print(sys.exc_info()[0])"
   ]
  },
  {
   "cell_type": "markdown",
   "metadata": {},
   "source": [
    "**If you have any suggest or question you can create an issue in this repo**"
   ]
  },
  {
   "cell_type": "markdown",
   "metadata": {
    "collapsed": true
   },
   "source": [
    "# References:\n",
    "\n",
    "Here are some articles that it convert similar aspect cover in this notebook.\n",
    "\n",
    "- [Fashion-MNIST with tf.Keras](https://medium.com/tensorflow/hello-deep-learning-fashion-mnist-with-keras-50fcff8cd74a)\n",
    "- [A Comprehensive guide to Fine-tuning Deep Learning Models in Keras  ](https://flyyufelix.github.io/2016/10/03/fine-tuning-in-keras-part1.html)\n",
    "- [Transfer Learning and Fine Tuning: Let's discuss](https://www.linkedin.com/pulse/transfer-learning-fine-tuning-lets-discuss-arun-das/)\n",
    "- [Serving Image-Based Deep Learning Models with TensorFlow-Serving’s RESTful API](https://medium.com/@tmlabonte/serving-image-based-deep-learning-models-with-tensorflow-servings-restful-api-d365c16a7dc4)\n",
    "- [How to Setup Tensorflow Serving For Production](https://medium.com/@brianalois/how-to-setup-tensorflow-serving-for-production-3cc2abf7efa)\n",
    "- [How to Run Dockerized Apps on Heroku… and it’s pretty sweet](https://medium.com/travis-on-docker/how-to-run-dockerized-apps-on-heroku-and-its-pretty-great-76e07e610e22)"
   ]
  },
  {
   "cell_type": "code",
   "execution_count": null,
   "metadata": {
    "collapsed": true
   },
   "outputs": [],
   "source": []
  }
 ],
 "metadata": {
  "kernelspec": {
   "display_name": "Python 3",
   "language": "python",
   "name": "python3"
  },
  "language_info": {
   "codemirror_mode": {
    "name": "ipython",
    "version": 3
   },
   "file_extension": ".py",
   "mimetype": "text/x-python",
   "name": "python",
   "nbconvert_exporter": "python",
   "pygments_lexer": "ipython3",
   "version": "3.6.6"
  }
 },
 "nbformat": 4,
 "nbformat_minor": 2
}
